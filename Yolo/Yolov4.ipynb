{
  "nbformat": 4,
  "nbformat_minor": 0,
  "metadata": {
    "colab": {
      "name": "Yolov4.ipynb",
      "private_outputs": true,
      "provenance": [],
      "collapsed_sections": [],
      "authorship_tag": "ABX9TyPAN0LBET18Ty0lQ1RyLONj",
      "include_colab_link": true
    },
    "kernelspec": {
      "name": "python3",
      "display_name": "Python 3"
    },
    "language_info": {
      "name": "python"
    },
    "accelerator": "GPU"
  },
  "cells": [
    {
      "cell_type": "markdown",
      "metadata": {
        "id": "view-in-github",
        "colab_type": "text"
      },
      "source": [
        "<a href=\"https://colab.research.google.com/github/JMassing/DeepL-CardDetection/blob/feature%2Fyolo_tiny/Yolo/Yolov4.ipynb\" target=\"_parent\"><img src=\"https://colab.research.google.com/assets/colab-badge.svg\" alt=\"Open In Colab\"/></a>"
      ]
    },
    {
      "cell_type": "markdown",
      "metadata": {
        "id": "6ChumAqdvxhi"
      },
      "source": [
        "# Yolov4 \n",
        "\n",
        "Train Yolov4 on Synthetic Card images\n",
        "\n",
        "Notebook follows tutorial on :https://colab.research.google.com/drive/12QusaaRj_lUwCGDvQNfICpa7kA7_a2dE#scrollTo=68eMertgIxaB"
      ]
    },
    {
      "cell_type": "markdown",
      "metadata": {
        "id": "8fUwREDlx17i"
      },
      "source": [
        "## Step 1 - Helper functions"
      ]
    },
    {
      "cell_type": "code",
      "metadata": {
        "id": "x2pf9pjLx9LP"
      },
      "source": [
        "def imShow(path):\n",
        "  import cv2\n",
        "  import matplotlib.pyplot as plt\n",
        "  %matplotlib inline\n",
        "\n",
        "  image = cv2.imread(path)\n",
        "  height, width = image.shape[:2]\n",
        "  resized_image = cv2.resize(image,(3*width, 3*height), interpolation = cv2.INTER_CUBIC)\n",
        "\n",
        "  fig = plt.gcf()\n",
        "  fig.set_size_inches(18, 10)\n",
        "  plt.axis(\"off\")\n",
        "  plt.imshow(cv2.cvtColor(resized_image, cv2.COLOR_BGR2RGB))\n",
        "  plt.show()\n",
        "\n",
        "# use this to upload files\n",
        "def upload():\n",
        "  from google.colab import files\n",
        "  uploaded = files.upload() \n",
        "  for name, data in uploaded.items():\n",
        "    with open(name, 'wb') as f:\n",
        "      f.write(data)\n",
        "      print ('saved file', name)\n",
        "\n",
        "# use this to download a file  \n",
        "def download(path):\n",
        "  from google.colab import files\n",
        "  files.download(path)"
      ],
      "execution_count": null,
      "outputs": []
    },
    {
      "cell_type": "markdown",
      "metadata": {
        "id": "zzHMqQWQxIFb"
      },
      "source": [
        "## Step 2 - Download an build Yolov4"
      ]
    },
    {
      "cell_type": "code",
      "metadata": {
        "id": "zV7GPlm-sNcs"
      },
      "source": [
        "# clone darknet repo\n",
        "!git clone https://github.com/AlexeyAB/darknet"
      ],
      "execution_count": null,
      "outputs": []
    },
    {
      "cell_type": "code",
      "metadata": {
        "id": "dvZinu9gvPCL"
      },
      "source": [
        "# change makefile to have GPU and OPENCV enabled\n",
        "%cd darknet\n",
        "!sed -i 's/OPENCV=0/OPENCV=1/' Makefile\n",
        "!sed -i 's/GPU=0/GPU=1/' Makefile\n",
        "!sed -i 's/CUDNN=0/CUDNN=1/' Makefile\n",
        "!sed -i 's/CUDNN_HALF=0/CUDNN_HALF=1/' Makefile"
      ],
      "execution_count": null,
      "outputs": []
    },
    {
      "cell_type": "code",
      "metadata": {
        "id": "T_gSVeLdwlBK"
      },
      "source": [
        "# make darknet (builds darknet so that you can then use the darknet executable file to run or train object detectors)\n",
        "!make"
      ],
      "execution_count": null,
      "outputs": []
    },
    {
      "cell_type": "code",
      "metadata": {
        "id": "m-9EUAvGxr46"
      },
      "source": [
        "# Download pretrained weights\n",
        "!wget https://github.com/AlexeyAB/darknet/releases/download/darknet_yolo_v3_optimal/yolov4.weights"
      ],
      "execution_count": null,
      "outputs": []
    },
    {
      "cell_type": "markdown",
      "metadata": {
        "id": "SCCkSN7WyaSL"
      },
      "source": [
        "## Step 3 - Check if Yolov4 runs correctly"
      ]
    },
    {
      "cell_type": "code",
      "metadata": {
        "id": "VtnNABwrygq7"
      },
      "source": [
        "# run darknet detection on test images\n",
        "!./darknet detector test cfg/coco.data cfg/yolov4.cfg yolov4.weights data/person.jpg"
      ],
      "execution_count": null,
      "outputs": []
    },
    {
      "cell_type": "code",
      "metadata": {
        "id": "JJvE5Ublysoi"
      },
      "source": [
        "# show image using our helper function\n",
        "imShow('predictions.jpg')"
      ],
      "execution_count": null,
      "outputs": []
    },
    {
      "cell_type": "markdown",
      "metadata": {
        "id": "jm4QZOW6kY1J"
      },
      "source": [
        "## Step 4 - Train on cards object"
      ]
    },
    {
      "cell_type": "code",
      "metadata": {
        "id": "Uyp03d3ckeTI"
      },
      "source": [
        "# Helper function to split data\n",
        "def split_data(path, split):\n",
        "  import os\n",
        "  from sklearn.utils import shuffle\n",
        "  if os.path.exists(path) is False:\n",
        "    print(\"[Warning]: Path was not found\")\n",
        "    return [], []\n",
        "  else:\n",
        "    _, _, filenames = next(os.walk(path))\n",
        "    filenames = [file for file in filenames if file.endswith('.jpg')]\n",
        "    filenames = shuffle(filenames)\n",
        "    idx = int(len(filenames) * split)\n",
        "    train_files = filenames[0:idx]\n",
        "    val_files = filenames [idx:]\n",
        "    return train_files, val_files"
      ],
      "execution_count": null,
      "outputs": []
    },
    {
      "cell_type": "code",
      "metadata": {
        "id": "SGjpvfzx6fZR"
      },
      "source": [
        "# unzip data\n",
        "import zipfile\n",
        "import os\n",
        "path = os.path.join(\"build\", \"darknet\", \"x64\", \"data\")\n",
        "zip_ref = zipfile.ZipFile(os.path.join(path, \"cards.zip\"), 'r')\n",
        "zip_ref.extractall(os.path.join(path, \"cards\"))"
      ],
      "execution_count": null,
      "outputs": []
    },
    {
      "cell_type": "code",
      "metadata": {
        "id": "GrLpRHc92lZx"
      },
      "source": [
        "# Split training data into validation and training data and write train.txt and\n",
        "# test.txt required for yolo training\n",
        "import os\n",
        "path = os.path.join(\"build\", \"darknet\", \"x64\", \"data\", \"cards\")\n",
        "train_data, val_data = split_data(path, 0.8)"
      ],
      "execution_count": null,
      "outputs": []
    },
    {
      "cell_type": "code",
      "metadata": {
        "id": "7b4uArSx-NFm"
      },
      "source": [
        "# write train.txt and test.txt for yolo training\n",
        "path = os.path.join(\"build\", \"darknet\", \"x64\", \"data\")\n",
        "cards_path = os.path.join(\"build\", \"darknet\", \"x64\", \"data\", \"cards\")\n",
        "with open(os.path.join(path, \"train.txt\"), \"w\") as fn:\n",
        "  for img in train_data:\n",
        "    line = f\"{os.path.join(cards_path, img)}\\n\"\n",
        "    fn.write(line)\n",
        "\n",
        "with open(os.path.join(path, \"test.txt\"), \"w\") as fn:\n",
        "  for img in val_data:\n",
        "    line = f\"{os.path.join(cards_path, img)}\\n\"\n",
        "    fn.write(line)"
      ],
      "execution_count": null,
      "outputs": []
    },
    {
      "cell_type": "code",
      "metadata": {
        "id": "35DDQqOQwNhT"
      },
      "source": [
        "# get config files from repo and copy to darknet\n",
        "%cd ../\n",
        "!git clone https://github.com/JMassing/DeepL-CardDetection.git\n",
        "%cd DeepL-CardDetection\n",
        "!git checkout master\n",
        "!cp Yolo/cards.data ../darknet/build/darknet/x64/data/\n",
        "!cp Yolo/cards.names ../darknet/build/darknet/x64/data/\n",
        "!cp Yolo/yolov4-cards.cfg ../darknet/build/darknet/x64/cfg/\n",
        "!cp Yolo/yolov4-tiny-cards.cfg ../darknet/build/darknet/x64/cfg/\n",
        "%cd ../darknet"
      ],
      "execution_count": null,
      "outputs": []
    },
    {
      "cell_type": "code",
      "metadata": {
        "id": "rJuB5yF1DNhg"
      },
      "source": [
        "# helper function for training\n",
        "def train_yolo(config = \"default\"):\n",
        "  if config is \"default\":\n",
        "    # download the weights\n",
        "    !wget https://github.com/AlexeyAB/darknet/releases/download/darknet_yolo_v3_optimal/yolov4.conv.137\n",
        "    # train the network\n",
        "    !./darknet detector train build/darknet/x64/data/cards.data \\\n",
        "    build/darknet/x64/cfg/yolov4-cards.cfg yolov4.conv.137 -dont_show -map\n",
        "  elif config is \"tiny\":\n",
        "    # download the weights\n",
        "    !wget https://github.com/AlexeyAB/darknet/releases/download/darknet_yolo_v4_pre/yolov4-tiny.conv.29\n",
        "    # train the network\n",
        "    !./darknet detector train build/darknet/x64/data/cards.data \\\n",
        "    build/darknet/x64/cfg/yolov4-tiny-cards.cfg yolov4-tiny.conv.29 -dont_show -map\n",
        "  else:\n",
        "    print(\"Unknown Yolo Config\")\n",
        "\n",
        "def test_detection(config = \"default\"):\n",
        "  if config is \"default\":\n",
        "    # run darknet detection on test images\n",
        "    !./darknet detector test build/darknet/x64/data/cards.data build/darknet/x64/cfg/yolov4-cards.cfg \\\n",
        "    yolov4-cards_1000.weights valid_data/image_00005.jpg\n",
        "  elif config is \"tiny\":\n",
        "    # run darknet detection on test images\n",
        "    !./darknet detector test build/darknet/x64/data/cards.data build/darknet/x64/cfg/yolov4-tiny-cards.cfg \\\n",
        "    yolov4-tiny-cards_best.weights valid_data/image_00005.jpg\n",
        "  else:\n",
        "    print(\"Unknown Yolo Config\")"
      ],
      "execution_count": null,
      "outputs": []
    },
    {
      "cell_type": "code",
      "metadata": {
        "id": "2GPojWIdEMQW"
      },
      "source": [
        "# train yolo \n",
        "config = \"tiny\"\n",
        "train_yolo(config = config)"
      ],
      "execution_count": null,
      "outputs": []
    },
    {
      "cell_type": "code",
      "metadata": {
        "id": "dvl2yNMG-OOD"
      },
      "source": [
        "# test detection on image\n",
        "test_detection(config)\n",
        "# show image using our helper function\n",
        "imShow('predictions.jpg')"
      ],
      "execution_count": null,
      "outputs": []
    },
    {
      "cell_type": "code",
      "metadata": {
        "id": "6HDe30kIl9Tm"
      },
      "source": [
        ""
      ],
      "execution_count": null,
      "outputs": []
    }
  ]
}